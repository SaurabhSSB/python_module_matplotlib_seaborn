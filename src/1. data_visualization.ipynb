{
 "cells": [
  {
   "cell_type": "code",
   "execution_count": null,
   "id": "d71442e7-c284-4bd0-8675-188f0553ea7c",
   "metadata": {},
   "outputs": [],
   "source": [
    "import pandas as pd"
   ]
  },
  {
   "cell_type": "code",
   "execution_count": null,
   "id": "0e73cb5d-4454-4cb8-a6fd-687695726003",
   "metadata": {},
   "outputs": [],
   "source": [
    "df= pd.DataFrame({\n",
    "    \"S_no\": [ \"A1\", \"A2\", \"A3\", \"A4\", \"A5\", \"A6\"],\n",
    "    \"Qty\" : [ 12, 11, 13, 16, 13, 15],\n",
    "    \"Units\" : [ 8, 7, 9, 11, 9, 7],\n",
    "    \"Price_per_unit\" : [ 92, 85, 75, 76, 68, 57]\n",
    "})"
   ]
  },
  {
   "cell_type": "code",
   "execution_count": null,
   "id": "93f9d034-ad56-4d5a-be91-3435486cd9ad",
   "metadata": {},
   "outputs": [],
   "source": [
    "from matplotlib import pyplot as plt\n",
    "plt.figure(figsize= ( 12, 4)) \n",
    "plt.plot(df[\"S_no\"],df[\"Qty\"], color= \"green\", label= \"quantity\")\n",
    "plt.plot(df[\"S_no\"],df[\"Units\"], color= \"blue\", label= \"unit\")\n",
    "plt.plot(df[\"S_no\"],df[\"Price_per_unit\"], color= \"red\", label= \"price_per_unit\")\n",
    "plt.title(\"Product_Dimension\")\n",
    "plt.ylabel(\"Serial_Number\")\n",
    "plt.xlabel(\"Dimension( quantity, unit, price_per_unit)\")\n",
    "\n",
    "plt.legend()\n",
    "\n",
    "plt.show()"
   ]
  },
  {
   "cell_type": "code",
   "execution_count": null,
   "id": "eebd4b39-1d15-408c-bcee-e2ee7bd5e5ec",
   "metadata": {},
   "outputs": [],
   "source": [
    "tl_dim= df[[\"Qty\",\"Units\",\"Price_per_unit\"]].sum()\n",
    "tl_dim"
   ]
  },
  {
   "cell_type": "code",
   "execution_count": null,
   "id": "24a9ea9f-f5af-49bf-9f00-b72d95471050",
   "metadata": {},
   "outputs": [],
   "source": [
    "tl_dim.index"
   ]
  },
  {
   "cell_type": "code",
   "execution_count": null,
   "id": "c31f3650-bb43-4c8f-b4ab-5c0492a78b2e",
   "metadata": {},
   "outputs": [],
   "source": [
    "plt.pie( tl_dim, labels= tl_dim.index)\n",
    "plt.show()"
   ]
  },
  {
   "cell_type": "code",
   "execution_count": null,
   "id": "81844d29-5ebf-4902-9391-6a1dba7ab7eb",
   "metadata": {},
   "outputs": [],
   "source": [
    "plt.pie( tl_dim, labels= [ 'dim1', 'dim2', 'dim3'], autopct= \"%1.1f%%\", explode= (0.1, 0, 0.1),\n",
    "       shadow= True, startangle= 140)\n",
    "plt.show()"
   ]
  },
  {
   "cell_type": "code",
   "execution_count": null,
   "id": "9e3eebc4-e816-431f-aca8-d9dc9c3c784a",
   "metadata": {},
   "outputs": [],
   "source": [
    "df.plot(kind= \"bar\", x=\"S_no\")\n",
    "plt.xticks(rotation= 45)"
   ]
  },
  {
   "cell_type": "code",
   "execution_count": null,
   "id": "cf9ad1e7-01e8-47a9-9d54-f5c50f4215a0",
   "metadata": {},
   "outputs": [],
   "source": [
    "df_new= df.set_index(\"S_no\")\n",
    "df_new.head()"
   ]
  },
  {
   "cell_type": "code",
   "execution_count": null,
   "id": "7ec93d75-5a2d-4770-b9c9-6d456e41df38",
   "metadata": {},
   "outputs": [],
   "source": [
    "df_new.loc[\"A4\"]"
   ]
  },
  {
   "cell_type": "code",
   "execution_count": null,
   "id": "9ff03f12-1791-4dee-b494-aa037c13060a",
   "metadata": {},
   "outputs": [],
   "source": [
    "df_new.plot(kind= \"bar\")\n",
    "plt.xticks(rotation= 45)"
   ]
  }
 ],
 "metadata": {
  "kernelspec": {
   "display_name": "Python 3 (ipykernel)",
   "language": "python",
   "name": "python3"
  },
  "language_info": {
   "codemirror_mode": {
    "name": "ipython",
    "version": 3
   },
   "file_extension": ".py",
   "mimetype": "text/x-python",
   "name": "python",
   "nbconvert_exporter": "python",
   "pygments_lexer": "ipython3",
   "version": "3.12.6"
  }
 },
 "nbformat": 4,
 "nbformat_minor": 5
}
